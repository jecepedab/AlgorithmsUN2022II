{
  "nbformat": 4,
  "nbformat_minor": 0,
  "metadata": {
    "colab": {
      "provenance": [],
      "include_colab_link": true
    },
    "kernelspec": {
      "name": "python3",
      "display_name": "Python 3"
    },
    "language_info": {
      "name": "python"
    }
  },
  "cells": [
    {
      "cell_type": "markdown",
      "metadata": {
        "id": "view-in-github",
        "colab_type": "text"
      },
      "source": [
        "<a href=\"https://colab.research.google.com/github/carer70/AlgorithmsUN2022II/blob/main/Lab8/FibonacciTimesGroup5.ipynb\" target=\"_parent\"><img src=\"https://colab.research.google.com/assets/colab-badge.svg\" alt=\"Open In Colab\"/></a>"
      ]
    },
    {
      "cell_type": "markdown",
      "source": [
        "# Fibonacci sequence \n",
        "\n",
        "Fibonacci  - https://en.wikipedia.org/wiki/Fibonacci Leonardo Bonacci, Leonardo of Pisa, or Leonardo Bigollo Pisano ('Leonardo the Traveller from Pisa')  \n",
        "\n",
        "$$\n",
        " f_n = \\left\\{ \n",
        " \\begin{array}{lll}\n",
        " 0& if & n=0\\\\\n",
        " 1& if & n=1\\\\\n",
        " f_{n-1} +   f_{n-2} & if & n> 1 \\text{ (otherwise)}\\\\\n",
        " \\end{array}\n",
        "   \\right.\n",
        "$$"
      ],
      "metadata": {
        "id": "7GnSoqBvqnXK"
      }
    },
    {
      "cell_type": "markdown",
      "source": [
        "## Fibonacci Recursive"
      ],
      "metadata": {
        "id": "FaGdySTDrk2z"
      }
    },
    {
      "cell_type": "code",
      "execution_count": null,
      "metadata": {
        "id": "H3-F3SWZpBI4"
      },
      "outputs": [],
      "source": [
        "# fibR - Fibonacci Recursive O( ( (1+sqrt(5)/2 )^n lg n ) [Relaxed asymptotic bound O(2^n lg n)] \n",
        "def fibR(n):\n",
        "    if n==0 :\n",
        "        return 0\n",
        "    if n==1 :\n",
        "        return 1\n",
        "    return fibR(n-1)+fibR(n-2)    # for large n´s  the addition will take lg n stetp because the numebers are very large"
      ]
    },
    {
      "cell_type": "markdown",
      "source": [
        "## Fibonacci Iterative"
      ],
      "metadata": {
        "id": "GSMHKtTKrpCo"
      }
    },
    {
      "cell_type": "code",
      "source": [
        "# fibI - Fibonacci Iterartive (forward) O(n lgn)\n",
        "def fibI(n):\n",
        "    if n==0 :\n",
        "        return 0\n",
        "    a, b = 0, 1\n",
        "    for i in range(1, n):\n",
        "        a, b = b, a+b\n",
        "    return b"
      ],
      "metadata": {
        "id": "PBRzObw7pTTq"
      },
      "execution_count": null,
      "outputs": []
    },
    {
      "cell_type": "markdown",
      "source": [
        "## Fibonacci Linear"
      ],
      "metadata": {
        "id": "2UATRDqhrrVI"
      }
    },
    {
      "cell_type": "code",
      "source": [
        "# fibA - Fibonnaci linear\n",
        "import math\n",
        "def fibA(n):\n",
        "  r5= math.sqrt(5)\n",
        "  return  (1/r5)*((1 + r5 )/2)**n - (1/r5)*((1 - r5 )/2)**n"
      ],
      "metadata": {
        "id": "6egi-QJqpin4"
      },
      "execution_count": null,
      "outputs": []
    },
    {
      "cell_type": "markdown",
      "source": [
        "## Fibonacci Logarithmic"
      ],
      "metadata": {
        "id": "ZPkXmbnNrtUQ"
      }
    },
    {
      "cell_type": "code",
      "source": [
        "# Fibonacci fast matrix O(lg^2 n) - https://stackoverflow.com/a/40117659  \n",
        "def fib_fast_matrix(n):\n",
        "\n",
        "    if n==0: return 0\n",
        "\n",
        "    # Initialize a matrix [[1,1],[1,0]]    \n",
        "    v1, v2, v3 = 1, 1, 0  \n",
        "    # Perform fast exponentiation of the matrix (quickly raise it to the nth power)\n",
        "    for rec in bin(n)[3:]:\n",
        "        calc = (v2*v2) \n",
        "        v1, v2, v3 = (v1*v1+calc) , ((v1+v3)*v2) , (calc+v3*v3) \n",
        "        if rec == '1': v1, v2, v3 = (v1+v2), v1, v2\n",
        "    return v2;    "
      ],
      "metadata": {
        "id": "Np-mJR7IqkyY"
      },
      "execution_count": null,
      "outputs": []
    },
    {
      "cell_type": "markdown",
      "source": [
        "## Get execution time and plots"
      ],
      "metadata": {
        "id": "56ZY9_Vxrx9o"
      }
    },
    {
      "cell_type": "code",
      "source": [
        "import pandas as pd\n",
        "#columns = [\"fib_recursive\", \"fib_linear\", \"fib_log\"]\n",
        "#df = pd.DataFrame(columns = columns)"
      ],
      "metadata": {
        "id": "rwwJCIVHrKjY"
      },
      "execution_count": null,
      "outputs": []
    },
    {
      "cell_type": "code",
      "source": [
        "import time \n",
        "\n",
        "recursive_times = list()\n",
        "linear_times = list()\n",
        "log_times = list()\n",
        "\n",
        "for n in range(0, 50):\n",
        "    execution_time = 2**(n-41)\n",
        "    recursive_times.append(execution_time)"
      ],
      "metadata": {
        "id": "AGoeag0Yqu9H"
      },
      "execution_count": null,
      "outputs": []
    },
    {
      "cell_type": "code",
      "source": [
        "\n",
        "for n in range(0, 1000):\n",
        "\n",
        "    start_time = time.time()\n",
        "    res = fibA(n)\n",
        "    execution_time = time.time() - start_time\n",
        "    linear_times.append(execution_time)\n",
        "\n",
        "    start_time = time.time()\n",
        "    res = fib_fast_matrix(n)\n",
        "    execution_time = time.time() - start_time\n",
        "    log_times.append(execution_time)"
      ],
      "metadata": {
        "id": "L9di2ddhwrYI"
      },
      "execution_count": null,
      "outputs": []
    },
    {
      "cell_type": "code",
      "source": [
        "import pandas as pd\n",
        "import matplotlib.pyplot as plt\n",
        "\n",
        "columns = [\"fib_recursive\"]\n",
        "df1 = pd.DataFrame(columns = columns)\n",
        "df1[\"fib_recursive\"] = recursive_times\n",
        "df1[\"n\"] = df1.index\n",
        "\n",
        "columns = [\"fib_linear\", \"fib_log\"]\n",
        "df2 = pd.DataFrame(columns = columns)\n",
        "df2[\"fib_linear\"] = linear_times\n",
        "df2[\"fib_log\"] = log_times\n",
        "df2[\"n\"] = df2.index"
      ],
      "metadata": {
        "id": "h73kq8k2uX2i"
      },
      "execution_count": null,
      "outputs": []
    },
    {
      "cell_type": "code",
      "source": [
        "df1.plot()\n",
        "plt.show()"
      ],
      "metadata": {
        "colab": {
          "base_uri": "https://localhost:8080/",
          "height": 265
        },
        "id": "2ErxfM6DxKdh",
        "outputId": "86a368da-b8f2-4f9a-840d-ce67f8f11043"
      },
      "execution_count": null,
      "outputs": [
        {
          "output_type": "display_data",
          "data": {
            "text/plain": [
              "<Figure size 432x288 with 1 Axes>"
            ],
            "image/png": "[encoded data removed]"
          },
          "metadata": {
            "needs_background": "light"
          }
        }
      ]
    },
    {
      "cell_type": "code",
      "source": [
        "df2[[\"fib_linear\", \"n\"]].plot()\n",
        "plt.show()"
      ],
      "metadata": {
        "colab": {
          "base_uri": "https://localhost:8080/",
          "height": 265
        },
        "id": "orUxDm86vwIS",
        "outputId": "3f4e46f2-b5e0-4cd4-ced4-29e3841a75e7"
      },
      "execution_count": null,
      "outputs": [
        {
          "output_type": "display_data",
          "data": {
            "text/plain": [
              "<Figure size 432x288 with 1 Axes>"
            ],
            "image/png": "[encoded data removed]"
          },
          "metadata": {
            "needs_background": "light"
          }
        }
      ]
    },
    {
      "cell_type": "code",
      "source": [
        "df2[[\"fib_log\", \"n\"]].plot()\n",
        "plt.show()"
      ],
      "metadata": {
        "colab": {
          "base_uri": "https://localhost:8080/",
          "height": 265
        },
        "id": "YGIoZp2qwfaz",
        "outputId": "000fd986-9a14-4309-f485-385a78fb35f5"
      },
      "execution_count": null,
      "outputs": [
        {
          "output_type": "display_data",
          "data": {
            "text/plain": [
              "<Figure size 432x288 with 1 Axes>"
            ],
            "image/png": "[encoded data removed]"
          },
          "metadata": {
            "needs_background": "light"
          }
        }
      ]
    }
  ]
}