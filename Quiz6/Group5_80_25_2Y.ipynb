{
  "nbformat": 4,
  "nbformat_minor": 0,
  "metadata": {
    "colab": {
      "provenance": [],
      "collapsed_sections": [],
      "authorship_tag": "ABX9TyM2zXaLblyFZGOb8HisEmdA",
      "include_colab_link": true
    },
    "kernelspec": {
      "name": "python3",
      "display_name": "Python 3"
    },
    "language_info": {
      "name": "python"
    }
  },
  "cells": [
    {
      "cell_type": "markdown",
      "metadata": {
        "id": "view-in-github",
        "colab_type": "text"
      },
      "source": [
        "<a href=\"https://colab.research.google.com/github/carer70/AlgorithmsUN2022II/blob/main/Quiz6/Group5_80_25_2Y.ipynb\" target=\"_parent\"><img src=\"https://colab.research.google.com/assets/colab-badge.svg\" alt=\"Open In Colab\"/></a>"
      ]
    },
    {
      "cell_type": "markdown",
      "source": [
        "# Group5_80_25_2Y\n"
      ],
      "metadata": {
        "id": "6GLWUUaOrxyR"
      }
    },
    {
      "cell_type": "code",
      "execution_count": null,
      "metadata": {
        "id": "PfTQeXcDrjTe"
      },
      "outputs": [],
      "source": [
        "import xarray as xr\n",
        "\n",
        "import qnt.ta as qnta\n",
        "import qnt.backtester as qnbt\n",
        "import qnt.data as qndata\n",
        "\n",
        "def load_data(period):\n",
        "    return qndata.stocks.load_ndx_data(tail=period)\n",
        "\n",
        "\n",
        "\n",
        "def strategy(data):\n",
        "    close     = data.sel(field=\"close\")\n",
        "    is_liquid = data.sel(field=\"is_liquid\")\n",
        "    sma_slow  = qnta.sma(close, 80).isel(time=-1)\n",
        "    sma_fast  = qnta.sma(close, 25).isel(time=-1)\n",
        "    weights   = xr.where(sma_slow < sma_fast, 1, -1)\n",
        "    weights   = weights * is_liquid\n",
        "    return weights\n",
        "\n",
        "\n",
        "\n",
        "weights = qnbt.backtest(\n",
        "    competition_type = \"stocks_nasdaq100\",\n",
        "    load_data        = load_data,\n",
        "    lookback_period  = 365*4,\n",
        "    start_date       = \"2020-10-15\",\n",
        "    strategy         = strategy,\n",
        "    analyze          = True,\n",
        "    build_plots      = True\n",
        ")"
      ]
    },
    {
      "cell_type": "markdown",
      "source": [
        "Check liquidity...\n",
        "Ok.\n",
        "Check missed dates...\n",
        "Ok.\n",
        "Check the sharpe ratio...\n",
        "\n",
        "WARNING! There are not enough points in the output.\n",
        "The output series should start from 2006-01-01 or earlier instead of 2020-10-15\n",
        "\n",
        "Period: 2006-01-01 - 2022-10-14\n",
        "Sharpe Ratio = -0.12472606876091252\n",
        "\n",
        "ERROR! The Sharpe Ratio is too low. -0.12472606876091252 < 1\n",
        "Improve the strategy and make sure that the in-sample Sharpe Ratio more than 1.\n",
        "\n",
        "Check correlation.\n",
        "\n",
        "Ok. This strategy does not correlate with other strategies.\n",
        "Write output: /root/fractions.nc.gz\n"
      ],
      "metadata": {
        "id": "HYxW9w12sPNR"
      }
    }
  ]
}